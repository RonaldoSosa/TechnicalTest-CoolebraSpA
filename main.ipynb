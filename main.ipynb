{
 "cells": [
  {
   "cell_type": "markdown",
   "metadata": {},
   "source": [
    "# Pregunta 1"
   ]
  },
  {
   "cell_type": "code",
   "execution_count": 1,
   "metadata": {},
   "outputs": [],
   "source": [
    "import sqlite3 \n",
    "connection = sqlite3.connect('data.db')  \n",
    "cursor = connection.cursor()\n",
    "# Se definen las tablas de la base de datos\n",
    "# Tabla Markets: sku, name                    \n",
    "cursor.execute(\"CREATE TABLE Markets(sku INTEGER, name TEXT, PRIMARY KEY(sku))\")\n",
    "# Tabla Products: sku, ean, name\n",
    "cursor.execute(\"CREATE TABLE Products(sku INTEGER, ean INTEGER, name TEXT, UNIQUE(sku, ean), PRIMARY KEY(sku, ean), FOREIGN KEY(sku) REFERENCES Markets(sku))\")\n",
    "# Tabla Prices: sku, ean, normal_price, discount_price, active, create_date\n",
    "cursor.execute(\"CREATE TABLE Prices(sku INTEGER, ean INTEGER, normal_price REAL, discount_price REAL, active BOOLEAN, create_date DATE, FOREIGN KEY(sku) REFERENCES Markets(sku), FOREIGN KEY(ean) REFERENCES Products(ean))\")\n",
    "\n",
    "# Se insertan los datos de prueba\n",
    "\n",
    "# Markets: Ripley, Paris, Falabella\n",
    "cursor.execute(\"INSERT INTO Markets VALUES(1, 'Ripley')\")\n",
    "cursor.execute(\"INSERT INTO Markets VALUES(2, 'Paris')\")\n",
    "cursor.execute(\"INSERT INTO Markets VALUES(3, 'Falabella')\")\n",
    "# Products para Ripley\n",
    "cursor.execute(\"INSERT INTO Products VALUES(1, 1, 'Polera Nike')\")\n",
    "cursor.execute(\"INSERT INTO Products VALUES(1, 2, 'Pantalon Levi')\")\n",
    "cursor.execute(\"INSERT INTO Products VALUES(1, 3, 'Notebook Acer')\")\n",
    "cursor.execute(\"INSERT INTO Products VALUES(1, 4, 'Polera Adidas')\")\n",
    "# Products para Paris\n",
    "cursor.execute(\"INSERT INTO Products VALUES(2, 1, 'Polera Nike')\")\n",
    "cursor.execute(\"INSERT INTO Products VALUES(2, 2, 'Pantalon Levi')\")\n",
    "cursor.execute(\"INSERT INTO Products VALUES(2, 3, 'Notebook Acer')\")\n",
    "cursor.execute(\"INSERT INTO Products VALUES(2, 5, 'Zapatillas Puma')\")\n",
    "# Products para Falabella\n",
    "cursor.execute(\"INSERT INTO Products VALUES(3, 1, 'Polera Nike')\")\n",
    "cursor.execute(\"INSERT INTO Products VALUES(3, 2, 'Pantalon Levi')\")\n",
    "cursor.execute(\"INSERT INTO Products VALUES(3, 3, 'Notebook Acer')\")\n",
    "cursor.execute(\"INSERT INTO Products VALUES(3, 6, 'Reloj Casio')\")\n",
    "# Prices para Ripley\n",
    "cursor.execute(\"INSERT INTO Prices VALUES(1, 1, 15000, 13000, 0, '2023-12-10')\")\n",
    "cursor.execute(\"INSERT INTO Prices VALUES(1, 1, 18000, 16000, 1, '2023-12-11')\")\n",
    "cursor.execute(\"INSERT INTO Prices VALUES(1, 1, 20000, 18000, 1, '2023-12-12')\")\n",
    "\n",
    "cursor.execute(\"INSERT INTO Prices VALUES(1, 2, 10000, 9000, 0, '2023-12-01')\")\n",
    "cursor.execute(\"INSERT INTO Prices VALUES(1, 2, 12000, 10000, 1, '2023-12-02')\")\n",
    "cursor.execute(\"INSERT INTO Prices VALUES(1, 2, 15000, 13000, 1, '2023-12-03')\")\n",
    "\n",
    "cursor.execute(\"INSERT INTO Prices VALUES(1, 3, 500000, 450000, 0, '2023-12-01')\")\n",
    "cursor.execute(\"INSERT INTO Prices VALUES(1, 3, 550000, 500000, 1, '2023-12-02')\")\n",
    "cursor.execute(\"INSERT INTO Prices VALUES(1, 3, 600000, 550000, 1, '2023-12-03')\")\n",
    "\n",
    "cursor.execute(\"INSERT INTO Prices VALUES(1, 4, 15000, 13000, 0, '2023-12-01')\")\n",
    "cursor.execute(\"INSERT INTO Prices VALUES(1, 4, 18000, 16000, 1, '2023-12-02')\")\n",
    "cursor.execute(\"INSERT INTO Prices VALUES(1, 4, 20000, 18000, 1, '2023-12-03')\")\n",
    "\n",
    "# Prices para Paris\n",
    "cursor.execute(\"INSERT INTO Prices VALUES(2, 1, 19000, 18500, 0, '2023-12-03')\")\n",
    "cursor.execute(\"INSERT INTO Prices VALUES(2, 1, 20000, 19500, 1, '2023-12-04')\")\n",
    "cursor.execute(\"INSERT INTO Prices VALUES(2, 1, 21000, 20500, 1, '2023-12-05')\")\n",
    "\n",
    "cursor.execute(\"INSERT INTO Prices VALUES(2, 2, 11000, 10500, 0, '2023-12-08')\")\n",
    "cursor.execute(\"INSERT INTO Prices VALUES(2, 2, 12000, 11500, 1, '2023-12-09')\")\n",
    "cursor.execute(\"INSERT INTO Prices VALUES(2, 2, 13000, 12500, 1, '2023-12-13')\")\n",
    "\n",
    "cursor.execute(\"INSERT INTO Prices VALUES(2, 3, 510000, 505000, 0, '2023-12-01')\")\n",
    "cursor.execute(\"INSERT INTO Prices VALUES(2, 3, 520000, 515000, 1, '2023-12-02')\")\n",
    "cursor.execute(\"INSERT INTO Prices VALUES(2, 3, 530000, 525000, 1, '2023-12-03')\")\n",
    "\n",
    "cursor.execute(\"INSERT INTO Prices VALUES(2, 5, 10000, 9500, 0, '2023-12-01')\")\n",
    "cursor.execute(\"INSERT INTO Prices VALUES(2, 5, 11000, 10500, 1, '2023-12-02')\")\n",
    "cursor.execute(\"INSERT INTO Prices VALUES(2, 5, 12000, 11500, 1, '2023-12-03')\")\n",
    "\n",
    "# Prices para Falabella\n",
    "cursor.execute(\"INSERT INTO Prices VALUES(3, 1, 18000, 17500, 0, '2023-12-03')\")\n",
    "cursor.execute(\"INSERT INTO Prices VALUES(3, 1, 19000, 18500, 1, '2023-12-04')\")\n",
    "cursor.execute(\"INSERT INTO Prices VALUES(3, 1, 20000, 19500, 1, '2023-12-05')\")\n",
    "\n",
    "cursor.execute(\"INSERT INTO Prices VALUES(3, 2, 10000, 9500, 0, '2023-12-08')\")\n",
    "cursor.execute(\"INSERT INTO Prices VALUES(3, 2, 11000, 10500, 1, '2023-12-09')\")\n",
    "cursor.execute(\"INSERT INTO Prices VALUES(3, 2, 12000, 11500, 1, '2023-12-13')\")\n",
    "\n",
    "cursor.execute(\"INSERT INTO Prices VALUES(3, 3, 500000, 495000, 0, '2023-12-01')\")\n",
    "cursor.execute(\"INSERT INTO Prices VALUES(3, 3, 510000, 505000, 1, '2023-12-02')\")\n",
    "cursor.execute(\"INSERT INTO Prices VALUES(3, 3, 520000, 515000, 1, '2023-12-03')\")\n",
    "\n",
    "cursor.execute(\"INSERT INTO Prices VALUES(3, 6, 100000, 95000, 0, '2023-12-01')\")\n",
    "cursor.execute(\"INSERT INTO Prices VALUES(3, 6, 110000, 105000, 1, '2023-12-02')\")\n",
    "cursor.execute(\"INSERT INTO Prices VALUES(3, 6, 120000, 115000, 1, '2023-12-03')\")\n",
    "\n",
    "# Se guardan los cambios\n",
    "connection.commit()\n",
    "# Se cierra la conexión\n",
    "connection.close()"
   ]
  },
  {
   "cell_type": "code",
   "execution_count": 2,
   "metadata": {},
   "outputs": [],
   "source": [
    "# Le da más prioridad al precio más bajo y si hay dos precios iguales, se queda con el más reciente\n",
    "connection = sqlite3.connect('data.db')\n",
    "cursor = connection.cursor()\n",
    "cursor.execute(\"\"\"\n",
    "    WITH ActivePricesSorted \n",
    "    AS \n",
    "    (SELECT sku, ean, normal_price, create_date,\n",
    "    ROW_NUMBER() OVER (PARTITION BY sku, ean ORDER BY normal_price ASC, create_date DESC) AS rank_price\n",
    "    FROM Prices \n",
    "    WHERE active = 1) \n",
    "    SELECT ActivePricesSorted.sku, ActivePricesSorted.ean, Markets.name, Products.name, ActivePricesSorted.normal_price \n",
    "    FROM Markets, Products, ActivePricesSorted \n",
    "    WHERE Markets.sku = Products.sku AND Products.ean = ActivePricesSorted.ean AND ActivePricesSorted.sku = Products.sku AND ActivePricesSorted.rank_price = 1\n",
    "    ORDER BY ActivePricesSorted.ean ASC;\"\"\")\n",
    "# Guardo los datos en una variable para la Pregunta 3\n",
    "data = cursor.fetchall()\n",
    "# Se cierra la conexión\n",
    "connection.close()"
   ]
  },
  {
   "cell_type": "markdown",
   "metadata": {},
   "source": [
    "# Pregunta 2"
   ]
  },
  {
   "cell_type": "markdown",
   "metadata": {},
   "source": [
    "Un proceso que debiese ser realizado cada cierto tiempo es el de la actualización de los precios en la base de datos, para ser más conciso me refiero a los datos de la tabla `Prices`. Esto debido a que se asume que los precios serán obtenidos desde fuentes externas y estas pueden cambiar frecuentemente. Para llevar a cabo el proceso se asumirá que la información de los precios se puede obtener de alguna de las siguientes 3 formas:\n",
    "\n",
    "- Una API que entrega los datos en formato JSON.\n",
    "- Un archivo Excel.\n",
    "- Realizando un web scraping a una página web.\n",
    "\n",
    "La manera de llevar a cabo el proceso dependerá de la forma en que se obtengan los datos. En el caso de la API, solo sería necesario enviar solicitudes a la API cada cierto tiempo y actualizar la base de datos de acuerdo a esta información, para ello puede valerse de alguna librería para realizar requests y funciones que permiten establecer un tiempo de espera entre cada solicitud, por ejemplo usando Node.js podría usarse la librería `axios` y la función `setTimeout`. Para el caso del archivo Excel, se puede abrir el archivo y leer los datos, usando Python se haría con `with` y `open`, se recorrería la información y se actualizaría en consecuencia. Por último para el caso del web scraping, usando Python se puede realizar con librerías como `BeautifulSoup` o `Scrapy`, se puede obtener la información de la página web y actualizar la base de datos.\n"
   ]
  },
  {
   "cell_type": "markdown",
   "metadata": {},
   "source": [
    "# Pregunta 3"
   ]
  },
  {
   "cell_type": "markdown",
   "metadata": {},
   "source": [
    "## a)"
   ]
  },
  {
   "cell_type": "code",
   "execution_count": 3,
   "metadata": {},
   "outputs": [
    {
     "name": "stdout",
     "output_type": "stream",
     "text": [
      "[{'Ean': 'Polera Nike', 'data': [(1, 1, 'Ripley', 'Polera Nike', 18000.0), (2, 1, 'Paris', 'Polera Nike', 20000.0), (3, 1, 'Falabella', 'Polera Nike', 19000.0)], 'nMarkets': 3, 'maxPrice': 20000.0, 'minPrice': 18000.0, 'priceRange': '(20000.0 - 18000.0)'}, {'Ean': 'Pantalon Levi', 'data': [(1, 2, 'Ripley', 'Pantalon Levi', 12000.0), (2, 2, 'Paris', 'Pantalon Levi', 12000.0), (3, 2, 'Falabella', 'Pantalon Levi', 11000.0)], 'nMarkets': 3, 'maxPrice': 12000.0, 'minPrice': 11000.0, 'priceRange': '(12000.0 - 11000.0)'}, {'Ean': 'Notebook Acer', 'data': [(1, 3, 'Ripley', 'Notebook Acer', 550000.0), (2, 3, 'Paris', 'Notebook Acer', 520000.0), (3, 3, 'Falabella', 'Notebook Acer', 510000.0)], 'nMarkets': 3, 'maxPrice': 550000.0, 'minPrice': 510000.0, 'priceRange': '(550000.0 - 510000.0)'}, {'Ean': 'Polera Adidas', 'data': [(1, 4, 'Ripley', 'Polera Adidas', 18000.0)], 'nMarkets': 1, 'maxPrice': 18000.0, 'minPrice': 18000.0, 'priceRange': '(18000.0 - 18000.0)'}, {'Ean': 'Zapatillas Puma', 'data': [(2, 5, 'Paris', 'Zapatillas Puma', 11000.0)], 'nMarkets': 1, 'maxPrice': 11000.0, 'minPrice': 11000.0, 'priceRange': '(11000.0 - 11000.0)'}, {'Ean': 'Reloj Casio', 'data': [(3, 6, 'Falabella', 'Reloj Casio', 110000.0)], 'nMarkets': 1, 'maxPrice': 110000.0, 'minPrice': 110000.0, 'priceRange': '(110000.0 - 110000.0)'}]\n",
      "{'Ean': 'Polera Nike', 'data': [(1, 1, 'Ripley', 'Polera Nike', 18000.0), (2, 1, 'Paris', 'Polera Nike', 20000.0), (3, 1, 'Falabella', 'Polera Nike', 19000.0)], 'nMarkets': 3, 'maxPrice': 20000.0, 'minPrice': 18000.0, 'priceRange': '(20000.0 - 18000.0)'}\n",
      "{'Ean': 'Pantalon Levi', 'data': [(1, 2, 'Ripley', 'Pantalon Levi', 12000.0), (2, 2, 'Paris', 'Pantalon Levi', 12000.0), (3, 2, 'Falabella', 'Pantalon Levi', 11000.0)], 'nMarkets': 3, 'maxPrice': 12000.0, 'minPrice': 11000.0, 'priceRange': '(12000.0 - 11000.0)'}\n",
      "{'Ean': 'Notebook Acer', 'data': [(1, 3, 'Ripley', 'Notebook Acer', 550000.0), (2, 3, 'Paris', 'Notebook Acer', 520000.0), (3, 3, 'Falabella', 'Notebook Acer', 510000.0)], 'nMarkets': 3, 'maxPrice': 550000.0, 'minPrice': 510000.0, 'priceRange': '(550000.0 - 510000.0)'}\n",
      "{'Ean': 'Polera Adidas', 'data': [(1, 4, 'Ripley', 'Polera Adidas', 18000.0)], 'nMarkets': 1, 'maxPrice': 18000.0, 'minPrice': 18000.0, 'priceRange': '(18000.0 - 18000.0)'}\n",
      "{'Ean': 'Zapatillas Puma', 'data': [(2, 5, 'Paris', 'Zapatillas Puma', 11000.0)], 'nMarkets': 1, 'maxPrice': 11000.0, 'minPrice': 11000.0, 'priceRange': '(11000.0 - 11000.0)'}\n",
      "{'Ean': 'Reloj Casio', 'data': [(3, 6, 'Falabella', 'Reloj Casio', 110000.0)], 'nMarkets': 1, 'maxPrice': 110000.0, 'minPrice': 110000.0, 'priceRange': '(110000.0 - 110000.0)'}\n"
     ]
    }
   ],
   "source": [
    "def group_by_ean(data):\n",
    "    ean_dict = dict()\n",
    "    for element in data:\n",
    "        if element[1] not in ean_dict:\n",
    "            ean_dict[element[1]] = dict()\n",
    "            ean_dict[element[1]][\"Ean\"] = element[3]\n",
    "            ean_dict[element[1]][\"data\"] = list()\n",
    "            ean_dict[element[1]][\"data\"].append(element)\n",
    "            ean_dict[element[1]][\"nMarkets\"] = 1\n",
    "            ean_dict[element[1]][\"maxPrice\"] = element[4]\n",
    "            ean_dict[element[1]][\"minPrice\"] = element[4]\n",
    "            ean_dict[element[1]][\"priceRange\"] = f\"({ean_dict[element[1]]['maxPrice']} - {ean_dict[element[1]]['minPrice']})\"\n",
    "        else:\n",
    "            ean_dict[element[1]][\"data\"].append(element)\n",
    "            ean_dict[element[1]][\"nMarkets\"] += 1\n",
    "            if element[4] > ean_dict[element[1]][\"maxPrice\"]:\n",
    "                ean_dict[element[1]][\"maxPrice\"] = element[4]\n",
    "            if element[4] < ean_dict[element[1]][\"minPrice\"]:\n",
    "                ean_dict[element[1]][\"minPrice\"] = element[4]\n",
    "            ean_dict[element[1]][\"priceRange\"] = f\"({ean_dict[element[1]]['maxPrice']} - {ean_dict[element[1]]['minPrice']})\"\n",
    "    # Se crea una lista con los datos de los productos de acuerdo a lo solicitado en el enunciado\n",
    "    ean_list = list()\n",
    "    for key in ean_dict:\n",
    "        ean_list.append(ean_dict[key])\n",
    "    # Se retorna la lista\n",
    "    return ean_list\n",
    "\n",
    "# Se llama a la función group_by_ean con los datos de la consulta\n",
    "ean_list = group_by_ean(data)\n",
    "# Se imprime la lista de productos con los datos solicitados\n",
    "print(ean_list)\n",
    "# Se muestran los datos de la lista con salto de línea\n",
    "print(*ean_list, sep='\\n')\n"
   ]
  }
 ],
 "metadata": {
  "kernelspec": {
   "display_name": "Python 3",
   "language": "python",
   "name": "python3"
  },
  "language_info": {
   "codemirror_mode": {
    "name": "ipython",
    "version": 3
   },
   "file_extension": ".py",
   "mimetype": "text/x-python",
   "name": "python",
   "nbconvert_exporter": "python",
   "pygments_lexer": "ipython3",
   "version": "3.8.10"
  }
 },
 "nbformat": 4,
 "nbformat_minor": 2
}
